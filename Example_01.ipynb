{
 "cells": [
  {
   "cell_type": "code",
   "execution_count": 1,
   "id": "c74e38d7",
   "metadata": {},
   "outputs": [],
   "source": [
    "import IFondasi"
   ]
  },
  {
   "cell_type": "code",
   "execution_count": 6,
   "id": "04cf158b",
   "metadata": {},
   "outputs": [],
   "source": [
    "p1 = IFondasi.Shallow(name=\"Footing\",\n",
    "                      Df = 1.0, # meter\n",
    "                      B = 1.2, # meter\n",
    "                      L = 1.2, # meter\n",
    "                      shape = \"rectangular\"\n",
    "                     )"
   ]
  },
  {
   "cell_type": "code",
   "execution_count": 20,
   "id": "df778921",
   "metadata": {},
   "outputs": [],
   "source": [
    "p1.soil_ESA(\n",
    "    GWL = 1, # meter\n",
    "    phi = 30, # derajat\n",
    "    g = 18, # kN/m3\n",
    "    method = \"Davis and Booker\",\n",
    "    local_shear = False\n",
    "    \n",
    ")"
   ]
  },
  {
   "cell_type": "code",
   "execution_count": 21,
   "id": "f53238df",
   "metadata": {},
   "outputs": [],
   "source": [
    "p1.loads(Vn=500,H=0,M=0)\n",
    "p1.analyze(FS=3)"
   ]
  },
  {
   "cell_type": "code",
   "execution_count": 22,
   "id": "924d1993",
   "metadata": {},
   "outputs": [
    {
     "name": "stdout",
     "output_type": "stream",
     "text": [
      "qu = 661.0 kPa\n",
      "qult = 679.0 kPa\n",
      "qa = 238.0 kPa\n",
      "Pa = 343.0 kN\n"
     ]
    }
   ],
   "source": [
    "p1.checkSuitability()\n",
    "p1.info()"
   ]
  },
  {
   "cell_type": "code",
   "execution_count": 23,
   "id": "e47603ed",
   "metadata": {},
   "outputs": [
    {
     "data": {
      "text/plain": [
       "'Vn = 500 kN > Pa = 343.0 kN; (Unecceptable)'"
      ]
     },
     "execution_count": 23,
     "metadata": {},
     "output_type": "execute_result"
    }
   ],
   "source": [
    "p1.suitability"
   ]
  }
 ],
 "metadata": {
  "kernelspec": {
   "display_name": "Python 3 (ipykernel)",
   "language": "python",
   "name": "python3"
  },
  "language_info": {
   "codemirror_mode": {
    "name": "ipython",
    "version": 3
   },
   "file_extension": ".py",
   "mimetype": "text/x-python",
   "name": "python",
   "nbconvert_exporter": "python",
   "pygments_lexer": "ipython3",
   "version": "3.9.12"
  }
 },
 "nbformat": 4,
 "nbformat_minor": 5
}
